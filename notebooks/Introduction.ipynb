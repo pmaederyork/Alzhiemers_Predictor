{
 "cells": [
  {
   "cell_type": "markdown",
   "metadata": {
    "colab_type": "text",
    "id": "jIIJoma9c0Au"
   },
   "source": [
    "#  <img style=\"float: left; padding-right: 10px; width: 45px\" src=\"https://raw.githubusercontent.com/Harvard-IACS/2018-CS109A/master/content/styles/iacs.png\"> CS109/209A Introduction to Data Science Final Project\n",
    "## Alzheimer's Disease Neuroimaging Initiative\n",
    "#### Group 16: Daniel Graziano, Daniel Molina-Hurtado, Esmail Fadae, Paxton Maeder-York\n"
   ]
  },
  {
   "cell_type": "markdown",
   "metadata": {
    "colab_type": "text",
    "id": "5HG5IMcmc0Ay"
   },
   "source": [
    "## Introduction"
   ]
  },
  {
   "cell_type": "markdown",
   "metadata": {
    "colab_type": "text",
    "id": "uEq3qVNMc0Az"
   },
   "source": [
    "### Motivation\n",
    "Alzheimer's Disease (AD) is the 6th leading cause of death in the United States and the [3rd cause among people 65 and older](https://www.nia.nih.gov/news/number-alzheimers-deaths-found-be-underreported). It is an irreversible neurodegenerative disease that progressively  damages an individual's cognitive functioning. It usually starts with memory loss and a worsening of thinking capabilities, and it develops to problems with language, orientation and loss of body functions, ultimately leading to death. The life expectancy following the diagnosis of the disease ranges from 3 to 8 years depending on the individual. The disease is significantly more common in adults in an advanced age, usually over 65 years old.\n",
    "\n",
    "Currently there is no cure for the disease and the causes are yet not completely understood. Given the relevance of Alzheimer there is a big global effort put in research of diagnosis and treatment. One of the biggest projects is the Alzheimer's Disease Neuroimaging Initiative (ADNI) whose data will be used in this project."
   ]
  },
  {
   "cell_type": "markdown",
   "metadata": {
    "colab_type": "text",
    "id": "MXjwWVVAc0A0"
   },
   "source": [
    "### ADNI"
   ]
  },
  {
   "cell_type": "markdown",
   "metadata": {
    "colab_type": "text",
    "id": "pPAMKAwcc0A1"
   },
   "source": [
    "The Alzheimer’s Disease Neuroimaging Initiative is a joint research initiative whose goal is to improve the understanding, diagnosis and treatments for Alzheimer's Disease. As part of this study researchers at more than 60 sites in the United States and Canada collected and are collecting data from over a thousand participants. The types of data collected range from demographics and family history to genetics, neuropsycologichal tests, imaging or biomarkers. The project is divided in several phases in time: ADNI1 (2004-2009), ADNIGO (2009-2001), ADNI2 (2011-2016) and ADNI3 (2016-2021).\n",
    "\n",
    "<table>\n",
    "  <tr></tr>\n",
    "  <tr>\n",
    "    <td>\n",
    "      <img src=\"http://drive.google.com/uc?export=view&id=1d3P68jeOS29j2MtfXFB1mGyUh-PZ6aj8\">\n",
    "    </td>\n",
    "  </tr>\n",
    "</table>"
   ]
  },
  {
   "cell_type": "markdown",
   "metadata": {
    "colab_type": "text",
    "id": "QUFeqF5Dc0A1"
   },
   "source": [
    "### Objectives\n",
    "\n",
    "Our main goals for this projects are:\n",
    "\n",
    "1) To build a model able to predict if Alzheimer's disease will be developed in an individual using the data provided by ADNI. This is very important since early diagnosis of Alzheimer can lead to a slower progression of the disease by accessing different treatments [[source]](https://www.alz.org/alzheimers-dementia/diagnosis/why-get-checked).\n",
    "\n",
    "2) To identify the most relevant information or tests that allow us predicting a diagnosis. This can help reducing the cost and effort spent in the diagnosis phase by reducing the number of tests to the most essential.\n"
   ]
  }
 ],
 "metadata": {
  "kernelspec": {
   "display_name": "Python 3",
   "language": "python",
   "name": "python3"
  },
  "language_info": {
   "codemirror_mode": {
    "name": "ipython",
    "version": 3
   },
   "file_extension": ".py",
   "mimetype": "text/x-python",
   "name": "python",
   "nbconvert_exporter": "python",
   "pygments_lexer": "ipython3",
   "version": "3.6.5"
  }
 },
 "nbformat": 4,
 "nbformat_minor": 2
}
