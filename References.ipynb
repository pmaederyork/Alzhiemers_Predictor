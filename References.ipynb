{
 "cells": [
  {
   "cell_type": "markdown",
   "metadata": {
    "colab_type": "text",
    "id": "pj_ZuIBa92PH"
   },
   "source": [
    "## References\n",
    "\n",
    "UMAP:  McInnes, Leland, and John Healy. \"Umap: Uniform manifold approximation and projection for dimension reduction.\" arXiv preprint arXiv:1802.03426 (2018). https://arxiv.org/abs/1802.03426\n",
    "\n",
    "Harvard-IACS. \"2018-CS109A\" (CS-109A Course Materials). https://github.com/Harvard-IACS/2018-CS109A (2018)\n",
    "\n",
    "ADNI Biostatistics Core Team. \"ADNI Data Training Part 2\". http://adni.loni.usc.edu/wp-content/uploads/2010/09/ADNI_GeneralProceduresManual.pdf (2013/08/01)\n",
    "\n",
    "ADNI. \"ADNI Procedures Manual\". http://adni.loni.usc.edu/wp-content/uploads/2010/09/ADNI_GeneralProceduresManual.pdf\n",
    "\n",
    "[ADNI (Bitbucket)](https://bitbucket.org/adni/). \"ADNIMERGE\" (R code). https://adni.bitbucket.io/myfunctions.R\n",
    "\n",
    "ADNI. \"ADNI Data Dictionary\". http://adni.loni.usc.edu/data-dictionary-search/ (2017)\n",
    "\n",
    "[Scikit-learn: Machine Learning in Python](http://jmlr.csail.mit.edu/papers/v12/pedregosa11a.html), Pedregosa et al., JMLR 12, pp. 2825-2830, 2011.\n"
   ]
  }
 ],
 "metadata": {
  "kernelspec": {
   "display_name": "Python 3",
   "language": "python",
   "name": "python3"
  },
  "language_info": {
   "codemirror_mode": {
    "name": "ipython",
    "version": 3
   },
   "file_extension": ".py",
   "mimetype": "text/x-python",
   "name": "python",
   "nbconvert_exporter": "python",
   "pygments_lexer": "ipython3",
   "version": "3.6.5"
  }
 },
 "nbformat": 4,
 "nbformat_minor": 2
}
